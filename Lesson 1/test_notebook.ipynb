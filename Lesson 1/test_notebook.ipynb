{
 "cells": [
  {
   "cell_type": "markdown",
   "metadata": {
    "colab_type": "text",
    "id": "V4rhrL3-p_iu"
   },
   "source": [
    "# CAIS++ Lesson 1\n",
    "\n",
    "### Creating your first image classifier\n",
    "\n",
    "#### So what is image classification?\n",
    "Classification is a type of machine learning problem where we want to assign each data point a label (or class).  For image classification, this means we are creating a machine learning model that can assign a label to a specific image.  So, if you give an image to the model, it will try to predict what *class* the image belongs to."
   ]
  },
  {
   "cell_type": "markdown",
   "metadata": {
    "colab_type": "text",
    "id": "Ua_Bwhi6p_ix"
   },
   "source": [
    "To start off, we are going to import three things from the caispp python package.\n",
    "* `ImageDataset` - This is a class for creating an image dataset from a folder structure like the example dataset.\n",
    "* `ImageClassifier` - This is a class for creating an image classifier. It requires you to first create an `ImageDataset` to use it.\n",
    "* `Path` - To create a `Path` pass in a string that represents the path from this notebook to the dataset. \n"
   ]
  },
  {
   "cell_type": "code",
   "execution_count": 2,
   "metadata": {
    "colab": {},
    "colab_type": "code",
    "id": "cKjFC4NPp_i0"
   },
   "outputs": [],
   "source": [
    "from caispp import ImageDataset, ImageClassifier, Path"
   ]
  },
  {
   "cell_type": "markdown",
   "metadata": {
    "colab_type": "text",
    "id": "9Mso2FcGp_i8"
   },
   "source": [
    "#### Creating the image dataset"
   ]
  },
  {
   "cell_type": "code",
   "execution_count": 3,
   "metadata": {
    "colab": {},
    "colab_type": "code",
    "id": "GLAKCyHEp_i9",
    "outputId": "1abf14ec-4389-48c2-ba9a-8b6817cef6bc",
    "scrolled": true
   },
   "outputs": [
    {
     "ename": "AttributeError",
     "evalue": "module 'tensorflow' has no attribute 'keras'",
     "output_type": "error",
     "traceback": [
      "\u001b[0;31m---------------------------------------------------------------------------\u001b[0m",
      "\u001b[0;31mAttributeError\u001b[0m                            Traceback (most recent call last)",
      "\u001b[0;32m<ipython-input-3-2e69a842470b>\u001b[0m in \u001b[0;36m<module>\u001b[0;34m\u001b[0m\n\u001b[1;32m      1\u001b[0m \u001b[0mpath\u001b[0m \u001b[0;34m=\u001b[0m \u001b[0mPath\u001b[0m\u001b[0;34m(\u001b[0m\u001b[0;34m'example_dataset/'\u001b[0m\u001b[0;34m)\u001b[0m\u001b[0;34m\u001b[0m\u001b[0;34m\u001b[0m\u001b[0m\n\u001b[0;32m----> 2\u001b[0;31m \u001b[0mdataset\u001b[0m \u001b[0;34m=\u001b[0m \u001b[0mImageDataset\u001b[0m\u001b[0;34m(\u001b[0m\u001b[0mpath\u001b[0m\u001b[0;34m,\u001b[0m \u001b[0mshow_distribution\u001b[0m\u001b[0;34m=\u001b[0m\u001b[0;32mTrue\u001b[0m\u001b[0;34m)\u001b[0m\u001b[0;34m\u001b[0m\u001b[0;34m\u001b[0m\u001b[0m\n\u001b[0m",
      "\u001b[0;32m~/anaconda3/envs/caispp/lib/python3.7/site-packages/caispp/ImageClassifier.py\u001b[0m in \u001b[0;36m__init__\u001b[0;34m(self, path, show_distribution, ignore)\u001b[0m\n\u001b[1;32m    258\u001b[0m         \u001b[0mself\u001b[0m\u001b[0;34m.\u001b[0m\u001b[0mflags\u001b[0m \u001b[0;34m=\u001b[0m \u001b[0mself\u001b[0m\u001b[0;34m.\u001b[0m\u001b[0m__check_files\u001b[0m\u001b[0;34m(\u001b[0m\u001b[0mreqs\u001b[0m\u001b[0;34m,\u001b[0m \u001b[0mopts\u001b[0m\u001b[0;34m)\u001b[0m\u001b[0;34m\u001b[0m\u001b[0;34m\u001b[0m\u001b[0m\n\u001b[1;32m    259\u001b[0m \u001b[0;34m\u001b[0m\u001b[0m\n\u001b[0;32m--> 260\u001b[0;31m         \u001b[0mself\u001b[0m\u001b[0;34m.\u001b[0m\u001b[0mtrain_data\u001b[0m \u001b[0;34m=\u001b[0m \u001b[0mself\u001b[0m\u001b[0;34m.\u001b[0m\u001b[0m__get_data\u001b[0m\u001b[0;34m(\u001b[0m\u001b[0;34m'train'\u001b[0m\u001b[0;34m)\u001b[0m\u001b[0;34m\u001b[0m\u001b[0;34m\u001b[0m\u001b[0m\n\u001b[0m\u001b[1;32m    261\u001b[0m         \u001b[0mself\u001b[0m\u001b[0;34m.\u001b[0m\u001b[0mtest_data\u001b[0m \u001b[0;34m=\u001b[0m \u001b[0mself\u001b[0m\u001b[0;34m.\u001b[0m\u001b[0m__get_data\u001b[0m\u001b[0;34m(\u001b[0m\u001b[0;34m'test'\u001b[0m\u001b[0;34m)\u001b[0m\u001b[0;34m\u001b[0m\u001b[0;34m\u001b[0m\u001b[0m\n\u001b[1;32m    262\u001b[0m         \u001b[0mself\u001b[0m\u001b[0;34m.\u001b[0m\u001b[0mvalid_data\u001b[0m \u001b[0;34m=\u001b[0m \u001b[0;32mNone\u001b[0m\u001b[0;34m\u001b[0m\u001b[0;34m\u001b[0m\u001b[0m\n",
      "\u001b[0;32m~/anaconda3/envs/caispp/lib/python3.7/site-packages/caispp/ImageClassifier.py\u001b[0m in \u001b[0;36m__get_data\u001b[0;34m(self, data_dir)\u001b[0m\n\u001b[1;32m    342\u001b[0m                     \u001b[0;31m# Convert to numpy array\u001b[0m\u001b[0;34m\u001b[0m\u001b[0;34m\u001b[0m\u001b[0;34m\u001b[0m\u001b[0m\n\u001b[1;32m    343\u001b[0m                     \u001b[0mimg\u001b[0m \u001b[0;34m=\u001b[0m \u001b[0mnp\u001b[0m\u001b[0;34m.\u001b[0m\u001b[0masarray\u001b[0m\u001b[0;34m(\u001b[0m\u001b[0mimg\u001b[0m\u001b[0;34m)\u001b[0m\u001b[0;34m\u001b[0m\u001b[0;34m\u001b[0m\u001b[0m\n\u001b[0;32m--> 344\u001b[0;31m                     \u001b[0mimg\u001b[0m \u001b[0;34m=\u001b[0m \u001b[0mtf\u001b[0m\u001b[0;34m.\u001b[0m\u001b[0mkeras\u001b[0m\u001b[0;34m.\u001b[0m\u001b[0mapplications\u001b[0m\u001b[0;34m.\u001b[0m\u001b[0minception_v3\u001b[0m\u001b[0;34m.\u001b[0m\u001b[0mpreprocess_input\u001b[0m\u001b[0;34m(\u001b[0m\u001b[0mimg\u001b[0m\u001b[0;34m)\u001b[0m\u001b[0;34m\u001b[0m\u001b[0;34m\u001b[0m\u001b[0m\n\u001b[0m\u001b[1;32m    345\u001b[0m \u001b[0;34m\u001b[0m\u001b[0m\n\u001b[1;32m    346\u001b[0m                     \u001b[0marr\u001b[0m\u001b[0;34m.\u001b[0m\u001b[0mappend\u001b[0m\u001b[0;34m(\u001b[0m\u001b[0mimg\u001b[0m\u001b[0;34m)\u001b[0m\u001b[0;34m\u001b[0m\u001b[0;34m\u001b[0m\u001b[0m\n",
      "\u001b[0;31mAttributeError\u001b[0m: module 'tensorflow' has no attribute 'keras'"
     ]
    }
   ],
   "source": [
    "path = Path('example_dataset/')\n",
    "dataset = ImageDataset(path, show_distribution=True)"
   ]
  },
  {
   "cell_type": "markdown",
   "metadata": {
    "colab_type": "text",
    "id": "zHrSQirUp_jF"
   },
   "source": [
    "You'll notice that the dataset is made up of three different types of sets:\n",
    "* Training set - This is the set of images that the model is trained on.  The model learns by assigning classes to this set of images.   \n",
    "* Validation set - While training, it is useful to know how well the model generalizes to data it has never seen before.  This is the main purpose of the validation set.\n",
    "* Test set - This is the set of images that we reserve until the model is done training.  We can evaluate how good the model is based on how well it performs on the test set.\n",
    "\n",
    "Question: What's the difference between the test set and the validation set?"
   ]
  },
  {
   "cell_type": "markdown",
   "metadata": {
    "colab_type": "text",
    "id": "jqcT9wjZp_jH"
   },
   "source": [
    "#### Create classifier"
   ]
  },
  {
   "cell_type": "code",
   "execution_count": null,
   "metadata": {
    "colab": {},
    "colab_type": "code",
    "id": "FMtO26rcp_jJ"
   },
   "outputs": [],
   "source": [
    "classifier = ImageClassifier(dataset)"
   ]
  },
  {
   "cell_type": "markdown",
   "metadata": {
    "colab_type": "text",
    "id": "IAn8weK-p_jO"
   },
   "source": [
    "#### Train classifier"
   ]
  },
  {
   "cell_type": "code",
   "execution_count": null,
   "metadata": {
    "colab": {},
    "colab_type": "code",
    "id": "DkjDDj6zp_jQ",
    "outputId": "8867ffa8-d8bc-41b5-a275-92f07bb2e533",
    "scrolled": true
   },
   "outputs": [],
   "source": [
    "classifier.train(epochs=10)"
   ]
  },
  {
   "cell_type": "markdown",
   "metadata": {
    "colab_type": "text",
    "id": "2_yzEMxLp_jW"
   },
   "source": [
    "What are all these numbers?\n",
    " * Epoch - An epoch is one cycle through all the training data.  After the first epoch, the image classifier has seen every image in the training set exactly once.\n",
    " * Loss - The loss is a metric for how well the model is fitting the training data.  We want to minimize this number.  If a model predicts the incorrect label with a high confidence, it will have a high loss (the loss will be lower if the model is less confident about its incorrect prediction).  *The model learns by changing in an attempt to reduce this loss* (we will go into more detail about what it is changing/how it is changing later in the curriculum).\n",
    " * Acc - This is the accuracy of the model, or the percentage of predictions it makes that are correct.\n",
    " $\\frac{|correct predictions|}{|all predictions|}$.\n",
    " \n",
    "What about val_loss and val_acc?"
   ]
  },
  {
   "cell_type": "markdown",
   "metadata": {
    "colab_type": "text",
    "id": "JNaRcXqKp_jY"
   },
   "source": [
    "#### Model over time"
   ]
  },
  {
   "cell_type": "code",
   "execution_count": null,
   "metadata": {
    "colab": {},
    "colab_type": "code",
    "id": "TpjdLAYFp_jZ",
    "outputId": "695c4fda-89e4-48aa-bb14-2f48ce3c3eac",
    "scrolled": true
   },
   "outputs": [],
   "source": [
    "classifier.show_history('loss')"
   ]
  },
  {
   "cell_type": "markdown",
   "metadata": {
    "colab_type": "text",
    "id": "5lnPg7kFp_jf"
   },
   "source": [
    "Try seeing the history of 'loss', 'acc' and 'both'."
   ]
  },
  {
   "cell_type": "markdown",
   "metadata": {
    "colab_type": "text",
    "id": "nK_nWkGkp_jh"
   },
   "source": [
    "#### How'd we do?"
   ]
  },
  {
   "cell_type": "code",
   "execution_count": null,
   "metadata": {
    "colab": {},
    "colab_type": "code",
    "id": "0EL3Zql5p_jl",
    "outputId": "9e60bad4-77fc-4717-fe2e-85184d2f9c91"
   },
   "outputs": [],
   "source": [
    "classifier.test(show_distribution=True)"
   ]
  },
  {
   "cell_type": "markdown",
   "metadata": {
    "colab_type": "text",
    "id": "hFlUZR1Vp_jq"
   },
   "source": [
    "Not bad!\n",
    "\n",
    "Questions?"
   ]
  }
 ],
 "metadata": {
  "colab": {
   "name": "test_notebook.ipynb",
   "provenance": []
  },
  "kernelspec": {
   "display_name": "Python 3",
   "language": "python",
   "name": "python3"
  },
  "language_info": {
   "codemirror_mode": {
    "name": "ipython",
    "version": 3
   },
   "file_extension": ".py",
   "mimetype": "text/x-python",
   "name": "python",
   "nbconvert_exporter": "python",
   "pygments_lexer": "ipython3",
   "version": "3.7.4"
  }
 },
 "nbformat": 4,
 "nbformat_minor": 1
}
